{
  "nbformat": 4,
  "nbformat_minor": 0,
  "metadata": {
    "colab": {
      "provenance": [],
      "gpuType": "T4",
      "authorship_tag": "ABX9TyP71lcsasRo2K3epNNUWOnn",
      "include_colab_link": true
    },
    "kernelspec": {
      "name": "python3",
      "display_name": "Python 3"
    },
    "language_info": {
      "name": "python"
    },
    "accelerator": "GPU"
  },
  "cells": [
    {
      "cell_type": "markdown",
      "metadata": {
        "id": "view-in-github",
        "colab_type": "text"
      },
      "source": [
        "<a href=\"https://colab.research.google.com/github/mohsinposts/Machine-Learning-Collection/blob/main/MNIST.ipynb\" target=\"_parent\"><img src=\"https://colab.research.google.com/assets/colab-badge.svg\" alt=\"Open In Colab\"/></a>"
      ]
    },
    {
      "cell_type": "code",
      "execution_count": 1,
      "metadata": {
        "id": "t0VSA-YoebSF"
      },
      "outputs": [],
      "source": [
        "import torch\n",
        "from torch import nn\n",
        "from torch.utils.data import DataLoader\n",
        "from torchvision import datasets\n",
        "from torchvision.transforms import ToTensor\n",
        "import matplotlib.pyplot as plt"
      ]
    },
    {
      "cell_type": "code",
      "source": [
        "device = torch.device(\"cuda\" if torch.cuda.is_available() else 'cpu')\n",
        "print(device)"
      ],
      "metadata": {
        "colab": {
          "base_uri": "https://localhost:8080/"
        },
        "id": "yFtEMrLkfGvY",
        "outputId": "5940fcba-a55e-4847-ef1c-f0f1fe121fd6"
      },
      "execution_count": 2,
      "outputs": [
        {
          "output_type": "stream",
          "name": "stdout",
          "text": [
            "cuda\n"
          ]
        }
      ]
    },
    {
      "cell_type": "code",
      "source": [
        "input_size = 28*28\n",
        "num_classes = 10\n",
        "batch_size = 64\n",
        "learning_rate = 1e-3\n",
        "num_epochs = 10"
      ],
      "metadata": {
        "id": "kRWC87BSfKEL"
      },
      "execution_count": 3,
      "outputs": []
    },
    {
      "cell_type": "code",
      "source": [
        "training_data = datasets.MNIST(\n",
        "    root=\"data\",\n",
        "    train=True,\n",
        "    download=True,\n",
        "    transform=ToTensor()\n",
        ")\n",
        "\n",
        "test_data = datasets.MNIST(\n",
        "    root=\"data\",\n",
        "    train=False,\n",
        "    download=True,\n",
        "    transform=ToTensor()\n",
        ")\n",
        "\n",
        "train_dataloader = DataLoader(training_data, batch_size=batch_size)\n",
        "test_dataloader = DataLoader(test_data, batch_size=batch_size)"
      ],
      "metadata": {
        "id": "TFpewclzwNYb",
        "colab": {
          "base_uri": "https://localhost:8080/"
        },
        "outputId": "3d8c274a-e0ec-4b63-cda3-38ca463b650f"
      },
      "execution_count": 4,
      "outputs": [
        {
          "output_type": "stream",
          "name": "stdout",
          "text": [
            "Downloading http://yann.lecun.com/exdb/mnist/train-images-idx3-ubyte.gz\n",
            "Downloading http://yann.lecun.com/exdb/mnist/train-images-idx3-ubyte.gz to data/MNIST/raw/train-images-idx3-ubyte.gz\n"
          ]
        },
        {
          "output_type": "stream",
          "name": "stderr",
          "text": [
            "100%|██████████| 9912422/9912422 [00:00<00:00, 37040310.43it/s]\n"
          ]
        },
        {
          "output_type": "stream",
          "name": "stdout",
          "text": [
            "Extracting data/MNIST/raw/train-images-idx3-ubyte.gz to data/MNIST/raw\n",
            "\n",
            "Downloading http://yann.lecun.com/exdb/mnist/train-labels-idx1-ubyte.gz\n",
            "Downloading http://yann.lecun.com/exdb/mnist/train-labels-idx1-ubyte.gz to data/MNIST/raw/train-labels-idx1-ubyte.gz\n"
          ]
        },
        {
          "output_type": "stream",
          "name": "stderr",
          "text": [
            "100%|██████████| 28881/28881 [00:00<00:00, 37573106.02it/s]\n"
          ]
        },
        {
          "output_type": "stream",
          "name": "stdout",
          "text": [
            "Extracting data/MNIST/raw/train-labels-idx1-ubyte.gz to data/MNIST/raw\n",
            "\n",
            "Downloading http://yann.lecun.com/exdb/mnist/t10k-images-idx3-ubyte.gz\n",
            "Downloading http://yann.lecun.com/exdb/mnist/t10k-images-idx3-ubyte.gz to data/MNIST/raw/t10k-images-idx3-ubyte.gz\n"
          ]
        },
        {
          "output_type": "stream",
          "name": "stderr",
          "text": [
            "100%|██████████| 1648877/1648877 [00:00<00:00, 29141629.01it/s]\n"
          ]
        },
        {
          "output_type": "stream",
          "name": "stdout",
          "text": [
            "Extracting data/MNIST/raw/t10k-images-idx3-ubyte.gz to data/MNIST/raw\n",
            "\n",
            "Downloading http://yann.lecun.com/exdb/mnist/t10k-labels-idx1-ubyte.gz\n",
            "Downloading http://yann.lecun.com/exdb/mnist/t10k-labels-idx1-ubyte.gz to data/MNIST/raw/t10k-labels-idx1-ubyte.gz\n"
          ]
        },
        {
          "output_type": "stream",
          "name": "stderr",
          "text": [
            "100%|██████████| 4542/4542 [00:00<00:00, 858634.73it/s]"
          ]
        },
        {
          "output_type": "stream",
          "name": "stdout",
          "text": [
            "Extracting data/MNIST/raw/t10k-labels-idx1-ubyte.gz to data/MNIST/raw\n",
            "\n"
          ]
        },
        {
          "output_type": "stream",
          "name": "stderr",
          "text": [
            "\n"
          ]
        }
      ]
    },
    {
      "cell_type": "code",
      "source": [
        "examples = iter(test_dataloader)\n",
        "example_data, example_targets = next(examples)\n",
        "for i in range(6):\n",
        "  plt.subplot(2,3,i+1)\n",
        "  plt.imshow(example_data[i][0], cmap='gray')\n",
        "plt.show"
      ],
      "metadata": {
        "colab": {
          "base_uri": "https://localhost:8080/",
          "height": 429
        },
        "id": "245n1f3kGgDo",
        "outputId": "2f43db6f-06b1-44bc-bac4-8f4a15afb1b4"
      },
      "execution_count": 5,
      "outputs": [
        {
          "output_type": "execute_result",
          "data": {
            "text/plain": [
              "<function matplotlib.pyplot.show(close=None, block=None)>"
            ]
          },
          "metadata": {},
          "execution_count": 5
        },
        {
          "output_type": "display_data",
          "data": {
            "text/plain": [
              "<Figure size 640x480 with 6 Axes>"
            ],
            "image/png": "[encoded data removed]"
          },
          "metadata": {}
        }
      ]
    },
    {
      "cell_type": "code",
      "source": [
        "class NeuralNetwork(nn.Module):\n",
        "    def __init__(self, input_size, hidden_size, num_classes):\n",
        "        super().__init__()\n",
        "        self.CNN_sequential = nn.Sequential(\n",
        "            nn.Conv2d(1, 10, 3),\n",
        "            nn.ReLU(),\n",
        "            nn.MaxPool2d(2, 2),\n",
        "            nn.Conv2d(10, 20, 3),\n",
        "            nn.ReLU(),\n",
        "            nn.MaxPool2d(2, 2),\n",
        "            nn.Conv2d(20, 40, 3),\n",
        "            nn.ReLU(),\n",
        "            nn.Flatten(),\n",
        "            nn.Linear(40*3*3, 50),\n",
        "            nn.Linear(50, 10)\n",
        "        )\n",
        "\n",
        "    def forward(self, x):\n",
        "        logits = self.CNN_sequential(x)\n",
        "        return logits"
      ],
      "metadata": {
        "id": "l-ZMK8PFewNL"
      },
      "execution_count": 15,
      "outputs": []
    },
    {
      "cell_type": "code",
      "source": [
        "model = NeuralNetwork(input_size, hidden_size, num_classes).to(device)\n",
        "loss_fn = nn.CrossEntropyLoss()\n",
        "optimizer = torch.optim.Adam(model.parameters(), lr=learning_rate)"
      ],
      "metadata": {
        "id": "T-9vPhyPhpC0"
      },
      "execution_count": 16,
      "outputs": []
    },
    {
      "cell_type": "code",
      "source": [
        "def train_loop(dataloader, model, loss_fn, optimizer):\n",
        "    model.train()\n",
        "\n",
        "    dataset_size = len(dataloader.dataset)\n",
        "    num_batches = len(dataloader)\n",
        "    total_loss = 0\n",
        "\n",
        "    for batch, (X, y) in enumerate(dataloader):\n",
        "        X = X.to(device)\n",
        "        y = y.to(device)\n",
        "\n",
        "        # Compute prediction and loss\n",
        "        pred = model(X)\n",
        "        batch_loss = loss_fn(pred, y)\n",
        "\n",
        "        # Backpropagation\n",
        "        batch_loss.backward()\n",
        "        optimizer.step()\n",
        "        optimizer.zero_grad()\n",
        "\n",
        "        if batch % 100 == 0:\n",
        "            batch_loss, current = batch_loss.item(), (batch + 1) * len(X)\n",
        "            print(f\"Progress:[{current:>5d}/{dataset_size:>5d}]  batch loss:{batch_loss:>8f}\")\n",
        "\n",
        "        total_loss += batch_loss\n",
        "\n",
        "    average_loss = total_loss / num_batches\n",
        "    print(f\"Train Error: Avg loss: {average_loss:>8f}\")\n",
        "    return average_loss\n",
        "\n",
        "\n",
        "def test_loop(dataloader, model, loss_fn):\n",
        "    model.eval()\n",
        "\n",
        "    dataset_size = len(dataloader.dataset)\n",
        "    num_batches = len(dataloader)\n",
        "    test_loss, correct = 0, 0\n",
        "\n",
        "    with torch.no_grad():\n",
        "        for X, y in dataloader:\n",
        "            X = X.to(device)\n",
        "            y = y.to(device)\n",
        "\n",
        "            # Get model pred\n",
        "            pred = model(X)\n",
        "\n",
        "            # Compute loss and\n",
        "            test_loss += loss_fn(pred, y).item()\n",
        "            correct += (pred.argmax(1) == y).type(torch.float).sum().item()\n",
        "\n",
        "    test_loss /= num_batches\n",
        "    correct /= dataset_size\n",
        "\n",
        "    print(f\"Test Error: Accuracy: {(100*correct):>0.1f}%, Avg loss: {test_loss:>8f}\\n\")\n",
        "    return test_loss"
      ],
      "metadata": {
        "id": "IdkGUtCfhxtS"
      },
      "execution_count": 17,
      "outputs": []
    },
    {
      "cell_type": "code",
      "source": [
        "train_losses = []\n",
        "test_losses = []\n",
        "\n",
        "for t in range(num_epochs):\n",
        "    print(f\"Epoch {t+1}\\n-------------------------------\")\n",
        "    train_loss = train_loop(train_dataloader, model, loss_fn, optimizer)\n",
        "    test_loss = test_loop(test_dataloader, model, loss_fn)\n",
        "    train_losses.append(train_loss.detach().cpu())\n",
        "    test_losses.append(test_loss)\n",
        "\n",
        "print(\"Done!\")"
      ],
      "metadata": {
        "id": "KW1YXfish0jT",
        "colab": {
          "base_uri": "https://localhost:8080/"
        },
        "outputId": "ed5eed1c-9698-43ed-89e2-567d90564edb"
      },
      "execution_count": 18,
      "outputs": [
        {
          "output_type": "stream",
          "name": "stdout",
          "text": [
            "Epoch 1\n",
            "-------------------------------\n",
            "Progress:[   64/60000]  batch loss:2.323433\n",
            "Progress:[ 6464/60000]  batch loss:0.384848\n",
            "Progress:[12864/60000]  batch loss:0.166380\n",
            "Progress:[19264/60000]  batch loss:0.248653\n",
            "Progress:[25664/60000]  batch loss:0.200068\n",
            "Progress:[32064/60000]  batch loss:0.142161\n",
            "Progress:[38464/60000]  batch loss:0.151667\n",
            "Progress:[44864/60000]  batch loss:0.201815\n",
            "Progress:[51264/60000]  batch loss:0.320076\n",
            "Progress:[57664/60000]  batch loss:0.183378\n",
            "Train Error: Avg loss: 0.310268\n",
            "Test Error: Accuracy: 96.8%, Avg loss: 0.096430\n",
            "\n",
            "Epoch 2\n",
            "-------------------------------\n",
            "Progress:[   64/60000]  batch loss:0.094921\n",
            "Progress:[ 6464/60000]  batch loss:0.115281\n",
            "Progress:[12864/60000]  batch loss:0.069105\n",
            "Progress:[19264/60000]  batch loss:0.150588\n",
            "Progress:[25664/60000]  batch loss:0.034278\n",
            "Progress:[32064/60000]  batch loss:0.068927\n",
            "Progress:[38464/60000]  batch loss:0.094818\n",
            "Progress:[44864/60000]  batch loss:0.106931\n",
            "Progress:[51264/60000]  batch loss:0.243034\n",
            "Progress:[57664/60000]  batch loss:0.140789\n",
            "Train Error: Avg loss: 0.083535\n",
            "Test Error: Accuracy: 98.2%, Avg loss: 0.056198\n",
            "\n",
            "Epoch 3\n",
            "-------------------------------\n",
            "Progress:[   64/60000]  batch loss:0.045196\n",
            "Progress:[ 6464/60000]  batch loss:0.095730\n",
            "Progress:[12864/60000]  batch loss:0.033875\n",
            "Progress:[19264/60000]  batch loss:0.097246\n",
            "Progress:[25664/60000]  batch loss:0.030479\n",
            "Progress:[32064/60000]  batch loss:0.053152\n",
            "Progress:[38464/60000]  batch loss:0.098360\n",
            "Progress:[44864/60000]  batch loss:0.081117\n",
            "Progress:[51264/60000]  batch loss:0.233585\n",
            "Progress:[57664/60000]  batch loss:0.110045\n",
            "Train Error: Avg loss: 0.059827\n",
            "Test Error: Accuracy: 98.5%, Avg loss: 0.047070\n",
            "\n",
            "Epoch 4\n",
            "-------------------------------\n",
            "Progress:[   64/60000]  batch loss:0.022041\n",
            "Progress:[ 6464/60000]  batch loss:0.084809\n",
            "Progress:[12864/60000]  batch loss:0.025765\n",
            "Progress:[19264/60000]  batch loss:0.072807\n",
            "Progress:[25664/60000]  batch loss:0.030429\n",
            "Progress:[32064/60000]  batch loss:0.067101\n",
            "Progress:[38464/60000]  batch loss:0.070950\n",
            "Progress:[44864/60000]  batch loss:0.057077\n",
            "Progress:[51264/60000]  batch loss:0.221563\n",
            "Progress:[57664/60000]  batch loss:0.085456\n",
            "Train Error: Avg loss: 0.047070\n",
            "Test Error: Accuracy: 98.7%, Avg loss: 0.040425\n",
            "\n",
            "Epoch 5\n",
            "-------------------------------\n",
            "Progress:[   64/60000]  batch loss:0.009853\n",
            "Progress:[ 6464/60000]  batch loss:0.075021\n",
            "Progress:[12864/60000]  batch loss:0.025882\n",
            "Progress:[19264/60000]  batch loss:0.042007\n",
            "Progress:[25664/60000]  batch loss:0.025209\n",
            "Progress:[32064/60000]  batch loss:0.072266\n",
            "Progress:[38464/60000]  batch loss:0.052533\n",
            "Progress:[44864/60000]  batch loss:0.061704\n",
            "Progress:[51264/60000]  batch loss:0.208148\n",
            "Progress:[57664/60000]  batch loss:0.053507\n",
            "Train Error: Avg loss: 0.039183\n",
            "Test Error: Accuracy: 98.7%, Avg loss: 0.037138\n",
            "\n",
            "Epoch 6\n",
            "-------------------------------\n",
            "Progress:[   64/60000]  batch loss:0.005564\n",
            "Progress:[ 6464/60000]  batch loss:0.057698\n",
            "Progress:[12864/60000]  batch loss:0.032581\n",
            "Progress:[19264/60000]  batch loss:0.017531\n",
            "Progress:[25664/60000]  batch loss:0.026961\n",
            "Progress:[32064/60000]  batch loss:0.059044\n",
            "Progress:[38464/60000]  batch loss:0.029730\n",
            "Progress:[44864/60000]  batch loss:0.044639\n",
            "Progress:[51264/60000]  batch loss:0.210328\n",
            "Progress:[57664/60000]  batch loss:0.042988\n",
            "Train Error: Avg loss: 0.032749\n",
            "Test Error: Accuracy: 98.7%, Avg loss: 0.039728\n",
            "\n",
            "Epoch 7\n",
            "-------------------------------\n",
            "Progress:[   64/60000]  batch loss:0.003939\n",
            "Progress:[ 6464/60000]  batch loss:0.023264\n",
            "Progress:[12864/60000]  batch loss:0.043077\n",
            "Progress:[19264/60000]  batch loss:0.015301\n",
            "Progress:[25664/60000]  batch loss:0.027221\n",
            "Progress:[32064/60000]  batch loss:0.039995\n",
            "Progress:[38464/60000]  batch loss:0.013601\n",
            "Progress:[44864/60000]  batch loss:0.028125\n",
            "Progress:[51264/60000]  batch loss:0.196518\n",
            "Progress:[57664/60000]  batch loss:0.044589\n",
            "Train Error: Avg loss: 0.027432\n",
            "Test Error: Accuracy: 98.7%, Avg loss: 0.042136\n",
            "\n",
            "Epoch 8\n",
            "-------------------------------\n",
            "Progress:[   64/60000]  batch loss:0.006763\n",
            "Progress:[ 6464/60000]  batch loss:0.009886\n",
            "Progress:[12864/60000]  batch loss:0.032472\n",
            "Progress:[19264/60000]  batch loss:0.013070\n",
            "Progress:[25664/60000]  batch loss:0.012839\n",
            "Progress:[32064/60000]  batch loss:0.029046\n",
            "Progress:[38464/60000]  batch loss:0.010700\n",
            "Progress:[44864/60000]  batch loss:0.016807\n",
            "Progress:[51264/60000]  batch loss:0.200685\n",
            "Progress:[57664/60000]  batch loss:0.070077\n",
            "Train Error: Avg loss: 0.023867\n",
            "Test Error: Accuracy: 98.7%, Avg loss: 0.042385\n",
            "\n",
            "Epoch 9\n",
            "-------------------------------\n",
            "Progress:[   64/60000]  batch loss:0.003221\n",
            "Progress:[ 6464/60000]  batch loss:0.006321\n",
            "Progress:[12864/60000]  batch loss:0.053655\n",
            "Progress:[19264/60000]  batch loss:0.003904\n",
            "Progress:[25664/60000]  batch loss:0.015607\n",
            "Progress:[32064/60000]  batch loss:0.024650\n",
            "Progress:[38464/60000]  batch loss:0.019998\n",
            "Progress:[44864/60000]  batch loss:0.011059\n",
            "Progress:[51264/60000]  batch loss:0.205470\n",
            "Progress:[57664/60000]  batch loss:0.073790\n",
            "Train Error: Avg loss: 0.020464\n",
            "Test Error: Accuracy: 98.7%, Avg loss: 0.041872\n",
            "\n",
            "Epoch 10\n",
            "-------------------------------\n",
            "Progress:[   64/60000]  batch loss:0.002073\n",
            "Progress:[ 6464/60000]  batch loss:0.005117\n",
            "Progress:[12864/60000]  batch loss:0.043297\n",
            "Progress:[19264/60000]  batch loss:0.002310\n",
            "Progress:[25664/60000]  batch loss:0.006227\n",
            "Progress:[32064/60000]  batch loss:0.035266\n",
            "Progress:[38464/60000]  batch loss:0.041264\n",
            "Progress:[44864/60000]  batch loss:0.005909\n",
            "Progress:[51264/60000]  batch loss:0.180738\n",
            "Progress:[57664/60000]  batch loss:0.065908\n",
            "Train Error: Avg loss: 0.018110\n",
            "Test Error: Accuracy: 98.7%, Avg loss: 0.046429\n",
            "\n",
            "Done!\n"
          ]
        }
      ]
    },
    {
      "cell_type": "code",
      "source": [
        "# plot training and test loss\n",
        "plt.plot(train_losses, label='Training Loss')\n",
        "plt.plot(test_losses, label='Test Loss')\n",
        "plt.xlabel('Epochs'), plt.ylabel('Loss'), plt.title('Training and Test Loss Over Epochs')\n",
        "plt.legend(), plt.show()"
      ],
      "metadata": {
        "id": "zL0y7Y1IB0CS",
        "colab": {
          "base_uri": "https://localhost:8080/",
          "height": 490
        },
        "outputId": "9d02d67b-1940-412b-94ec-f0da1c6e7f9b"
      },
      "execution_count": 19,
      "outputs": [
        {
          "output_type": "display_data",
          "data": {
            "text/plain": [
              "<Figure size 640x480 with 1 Axes>"
            ],
            "image/png": "[encoded data removed]"
          },
          "metadata": {}
        },
        {
          "output_type": "execute_result",
          "data": {
            "text/plain": [
              "(<matplotlib.legend.Legend at 0x7fae40fc7970>, None)"
            ]
          },
          "metadata": {},
          "execution_count": 19
        }
      ]
    }
  ]
}