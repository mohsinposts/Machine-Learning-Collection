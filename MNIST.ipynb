{
  "nbformat": 4,
  "nbformat_minor": 0,
  "metadata": {
    "colab": {
      "provenance": [],
      "gpuType": "T4",
      "authorship_tag": "ABX9TyOu8L34+wBvNuubQ1zXmzly",
      "include_colab_link": true
    },
    "kernelspec": {
      "name": "python3",
      "display_name": "Python 3"
    },
    "language_info": {
      "name": "python"
    },
    "accelerator": "GPU"
  },
  "cells": [
    {
      "cell_type": "markdown",
      "metadata": {
        "id": "view-in-github",
        "colab_type": "text"
      },
      "source": [
        "<a href=\"https://colab.research.google.com/github/mohsinposts/Machine-Learning-Collection/blob/main/MNIST.ipynb\" target=\"_parent\"><img src=\"https://colab.research.google.com/assets/colab-badge.svg\" alt=\"Open In Colab\"/></a>"
      ]
    },
    {
      "cell_type": "code",
      "execution_count": 1,
      "metadata": {
        "id": "t0VSA-YoebSF"
      },
      "outputs": [],
      "source": [
        "import torch\n",
        "from torch import nn\n",
        "from torch.utils.data import DataLoader\n",
        "from torchvision import datasets\n",
        "from torchvision.transforms import ToTensor\n",
        "import matplotlib.pyplot as plt"
      ]
    },
    {
      "cell_type": "code",
      "source": [
        "device = torch.device(\"cuda\" if torch.cuda.is_available() else 'cpu')\n",
        "print(device)"
      ],
      "metadata": {
        "colab": {
          "base_uri": "https://localhost:8080/"
        },
        "id": "yFtEMrLkfGvY",
        "outputId": "b90fdfdc-ae2d-4e73-e02b-6774b06fdd22"
      },
      "execution_count": 2,
      "outputs": [
        {
          "output_type": "stream",
          "name": "stdout",
          "text": [
            "cuda\n"
          ]
        }
      ]
    },
    {
      "cell_type": "code",
      "source": [
        "input_size = 28*28\n",
        "hidden_size = 512\n",
        "num_classes = 10\n",
        "batch_size = 64\n",
        "learning_rate = 1e-3\n",
        "num_epochs = 10"
      ],
      "metadata": {
        "id": "kRWC87BSfKEL"
      },
      "execution_count": 17,
      "outputs": []
    },
    {
      "cell_type": "code",
      "source": [
        "training_data = datasets.MNIST(\n",
        "    root=\"data\",\n",
        "    train=True,\n",
        "    download=True,\n",
        "    transform=ToTensor()\n",
        ")\n",
        "\n",
        "test_data = datasets.MNIST(\n",
        "    root=\"data\",\n",
        "    train=False,\n",
        "    download=True,\n",
        "    transform=ToTensor()\n",
        ")\n",
        "\n",
        "train_dataloader = DataLoader(training_data, batch_size=batch_size)\n",
        "test_dataloader = DataLoader(test_data, batch_size=batch_size)"
      ],
      "metadata": {
        "id": "TFpewclzwNYb"
      },
      "execution_count": 18,
      "outputs": []
    },
    {
      "cell_type": "code",
      "source": [
        "examples = iter(test_dataloader)\n",
        "example_data, example_targets = next(examples)\n",
        "for i in range(6):\n",
        "  plt.subplot(2,3,i+1)\n",
        "  plt.imshow(example_data[i][0], cmap='gray')\n",
        "plt.show"
      ],
      "metadata": {
        "colab": {
          "base_uri": "https://localhost:8080/",
          "height": 429
        },
        "id": "245n1f3kGgDo",
        "outputId": "127db5b9-d3bf-4056-fba2-8faf2ecf3910"
      },
      "execution_count": 5,
      "outputs": [
        {
          "output_type": "execute_result",
          "data": {
            "text/plain": [
              "<function matplotlib.pyplot.show(close=None, block=None)>"
            ]
          },
          "metadata": {},
          "execution_count": 5
        },
        {
          "output_type": "display_data",
          "data": {
            "text/plain": [
              "<Figure size 640x480 with 6 Axes>"
            ],
            "image/png": "[encoded data removed]"
          },
          "metadata": {}
        }
      ]
    },
    {
      "cell_type": "code",
      "source": [
        "class NeuralNetwork(nn.Module):\n",
        "    def __init__(self, input_size, hidden_size, num_classes):\n",
        "        super().__init__()\n",
        "        self.flatten = nn.Flatten()\n",
        "        self.linear_relu_stack = nn.Sequential(\n",
        "            nn.Linear(input_size, hidden_size),\n",
        "            nn.ReLU(),\n",
        "            nn.Linear(hidden_size, hidden_size),\n",
        "            nn.ReLU(),\n",
        "            nn.Linear(hidden_size, num_classes),\n",
        "        )\n",
        "\n",
        "    def forward(self, x):\n",
        "        x = self.flatten(x)\n",
        "        logits = self.linear_relu_stack(x)\n",
        "        return logits"
      ],
      "metadata": {
        "id": "l-ZMK8PFewNL"
      },
      "execution_count": 6,
      "outputs": []
    },
    {
      "cell_type": "code",
      "source": [
        "model = NeuralNetwork(input_size, hidden_size, num_classes).to(device)\n",
        "loss_fn = nn.CrossEntropyLoss()\n",
        "optimizer = torch.optim.Adam(model.parameters(), lr=learning_rate)"
      ],
      "metadata": {
        "id": "T-9vPhyPhpC0"
      },
      "execution_count": 7,
      "outputs": []
    },
    {
      "cell_type": "code",
      "source": [
        "def train_loop(dataloader, model, loss_fn, optimizer):\n",
        "    model.train()\n",
        "\n",
        "    dataset_size = len(dataloader.dataset)\n",
        "    num_batches = len(dataloader)\n",
        "    total_loss = 0\n",
        "\n",
        "    for batch, (X, y) in enumerate(dataloader):\n",
        "        X = X.to(device)\n",
        "        y = y.to(device)\n",
        "\n",
        "        # Compute prediction and loss\n",
        "        pred = model(X)\n",
        "        batch_loss = loss_fn(pred, y)\n",
        "\n",
        "        # Backpropagation\n",
        "        batch_loss.backward()\n",
        "        optimizer.step()\n",
        "        optimizer.zero_grad()\n",
        "\n",
        "        if batch % 100 == 0:\n",
        "            batch_loss, current = batch_loss.item(), (batch + 1) * len(X)\n",
        "            print(f\"Progress:[{current:>5d}/{dataset_size:>5d}]  batch loss:{batch_loss:>8f}\")\n",
        "\n",
        "        total_loss += batch_loss\n",
        "\n",
        "    average_loss = total_loss / num_batches\n",
        "    print(f\"Train Error: Avg loss: {average_loss:>8f}\")\n",
        "    return average_loss\n",
        "\n",
        "\n",
        "def test_loop(dataloader, model, loss_fn):\n",
        "    model.eval()\n",
        "\n",
        "    dataset_size = len(dataloader.dataset)\n",
        "    num_batches = len(dataloader)\n",
        "    test_loss, correct = 0, 0\n",
        "\n",
        "    with torch.no_grad():\n",
        "        for X, y in dataloader:\n",
        "            X = X.to(device)\n",
        "            y = y.to(device)\n",
        "\n",
        "            # Get model pred\n",
        "            pred = model(X)\n",
        "\n",
        "            # Compute loss and\n",
        "            test_loss += loss_fn(pred, y).item()\n",
        "            correct += (pred.argmax(1) == y).type(torch.float).sum().item()\n",
        "\n",
        "    test_loss /= num_batches\n",
        "    correct /= dataset_size\n",
        "\n",
        "    print(f\"Test Error: Accuracy: {(100*correct):>0.1f}%, Avg loss: {test_loss:>8f}\\n\")\n",
        "    return test_loss"
      ],
      "metadata": {
        "id": "IdkGUtCfhxtS"
      },
      "execution_count": 23,
      "outputs": []
    },
    {
      "cell_type": "code",
      "source": [
        "train_losses = []\n",
        "test_losses = []\n",
        "\n",
        "for t in range(num_epochs):\n",
        "    print(f\"Epoch {t+1}\\n-------------------------------\")\n",
        "    train_loss = train_loop(train_dataloader, model, loss_fn, optimizer)\n",
        "    test_loss = test_loop(test_dataloader, model, loss_fn)\n",
        "    train_losses.append(train_loss.detach().cpu())\n",
        "    test_losses.append(test_loss)\n",
        "\n",
        "print(\"Done!\")"
      ],
      "metadata": {
        "id": "KW1YXfish0jT",
        "colab": {
          "base_uri": "https://localhost:8080/"
        },
        "outputId": "ea918121-737b-4bad-aee5-c690ee200011"
      },
      "execution_count": 24,
      "outputs": [
        {
          "output_type": "stream",
          "name": "stdout",
          "text": [
            "Epoch 1\n",
            "-------------------------------\n",
            "Progress:[   64/60000]  batch loss:0.000192\n",
            "Progress:[ 6464/60000]  batch loss:0.041774\n",
            "Progress:[12864/60000]  batch loss:0.030853\n",
            "Progress:[19264/60000]  batch loss:0.006864\n",
            "Progress:[25664/60000]  batch loss:0.004479\n",
            "Progress:[32064/60000]  batch loss:0.002133\n",
            "Progress:[38464/60000]  batch loss:0.000094\n",
            "Progress:[44864/60000]  batch loss:0.006635\n",
            "Progress:[51264/60000]  batch loss:0.000508\n",
            "Progress:[57664/60000]  batch loss:0.004731\n",
            "Train Error: Avg loss: 0.010400\n",
            "Test Error: Accuracy: 98.1%, Avg loss: 0.104514\n",
            "\n",
            "Epoch 2\n",
            "-------------------------------\n",
            "Progress:[   64/60000]  batch loss:0.002312\n",
            "Progress:[ 6464/60000]  batch loss:0.000144\n",
            "Progress:[12864/60000]  batch loss:0.018669\n",
            "Progress:[19264/60000]  batch loss:0.000061\n",
            "Progress:[25664/60000]  batch loss:0.024358\n",
            "Progress:[32064/60000]  batch loss:0.003303\n",
            "Progress:[38464/60000]  batch loss:0.000203\n",
            "Progress:[44864/60000]  batch loss:0.000950\n",
            "Progress:[51264/60000]  batch loss:0.018513\n",
            "Progress:[57664/60000]  batch loss:0.000016\n",
            "Train Error: Avg loss: 0.009464\n",
            "Test Error: Accuracy: 98.0%, Avg loss: 0.122383\n",
            "\n",
            "Epoch 3\n",
            "-------------------------------\n",
            "Progress:[   64/60000]  batch loss:0.000181\n",
            "Progress:[ 6464/60000]  batch loss:0.015895\n",
            "Progress:[12864/60000]  batch loss:0.020689\n",
            "Progress:[19264/60000]  batch loss:0.019071\n",
            "Progress:[25664/60000]  batch loss:0.000072\n",
            "Progress:[32064/60000]  batch loss:0.000722\n",
            "Progress:[38464/60000]  batch loss:0.000676\n",
            "Progress:[44864/60000]  batch loss:0.000713\n",
            "Progress:[51264/60000]  batch loss:0.000190\n",
            "Progress:[57664/60000]  batch loss:0.000229\n",
            "Train Error: Avg loss: 0.012542\n",
            "Test Error: Accuracy: 98.4%, Avg loss: 0.097224\n",
            "\n",
            "Epoch 4\n",
            "-------------------------------\n",
            "Progress:[   64/60000]  batch loss:0.000049\n",
            "Progress:[ 6464/60000]  batch loss:0.000160\n",
            "Progress:[12864/60000]  batch loss:0.017719\n",
            "Progress:[19264/60000]  batch loss:0.000286\n",
            "Progress:[25664/60000]  batch loss:0.006924\n",
            "Progress:[32064/60000]  batch loss:0.004270\n",
            "Progress:[38464/60000]  batch loss:0.000169\n",
            "Progress:[44864/60000]  batch loss:0.033075\n",
            "Progress:[51264/60000]  batch loss:0.000877\n",
            "Progress:[57664/60000]  batch loss:0.001797\n",
            "Train Error: Avg loss: 0.010449\n",
            "Test Error: Accuracy: 98.1%, Avg loss: 0.112301\n",
            "\n",
            "Epoch 5\n",
            "-------------------------------\n",
            "Progress:[   64/60000]  batch loss:0.001282\n",
            "Progress:[ 6464/60000]  batch loss:0.000431\n",
            "Progress:[12864/60000]  batch loss:0.018430\n",
            "Progress:[19264/60000]  batch loss:0.000089\n",
            "Progress:[25664/60000]  batch loss:0.000478\n",
            "Progress:[32064/60000]  batch loss:0.000042\n",
            "Progress:[38464/60000]  batch loss:0.000903\n",
            "Progress:[44864/60000]  batch loss:0.000101\n",
            "Progress:[51264/60000]  batch loss:0.000501\n",
            "Progress:[57664/60000]  batch loss:0.041563\n",
            "Train Error: Avg loss: 0.008256\n",
            "Test Error: Accuracy: 97.8%, Avg loss: 0.139300\n",
            "\n",
            "Epoch 6\n",
            "-------------------------------\n",
            "Progress:[   64/60000]  batch loss:0.023899\n",
            "Progress:[ 6464/60000]  batch loss:0.064865\n",
            "Progress:[12864/60000]  batch loss:0.014912\n",
            "Progress:[19264/60000]  batch loss:0.001380\n",
            "Progress:[25664/60000]  batch loss:0.000117\n",
            "Progress:[32064/60000]  batch loss:0.002314\n",
            "Progress:[38464/60000]  batch loss:0.000009\n",
            "Progress:[44864/60000]  batch loss:0.001499\n",
            "Progress:[51264/60000]  batch loss:0.004860\n",
            "Progress:[57664/60000]  batch loss:0.002849\n",
            "Train Error: Avg loss: 0.007642\n",
            "Test Error: Accuracy: 98.2%, Avg loss: 0.108681\n",
            "\n",
            "Epoch 7\n",
            "-------------------------------\n",
            "Progress:[   64/60000]  batch loss:0.005014\n",
            "Progress:[ 6464/60000]  batch loss:0.016192\n",
            "Progress:[12864/60000]  batch loss:0.061067\n",
            "Progress:[19264/60000]  batch loss:0.000674\n",
            "Progress:[25664/60000]  batch loss:0.000019\n",
            "Progress:[32064/60000]  batch loss:0.018826\n",
            "Progress:[38464/60000]  batch loss:0.000162\n",
            "Progress:[44864/60000]  batch loss:0.022345\n",
            "Progress:[51264/60000]  batch loss:0.016233\n",
            "Progress:[57664/60000]  batch loss:0.000019\n",
            "Train Error: Avg loss: 0.008922\n",
            "Test Error: Accuracy: 98.0%, Avg loss: 0.135516\n",
            "\n",
            "Epoch 8\n",
            "-------------------------------\n",
            "Progress:[   64/60000]  batch loss:0.000005\n",
            "Progress:[ 6464/60000]  batch loss:0.000000\n",
            "Progress:[12864/60000]  batch loss:0.009884\n",
            "Progress:[19264/60000]  batch loss:0.000190\n",
            "Progress:[25664/60000]  batch loss:0.000477\n",
            "Progress:[32064/60000]  batch loss:0.000359\n",
            "Progress:[38464/60000]  batch loss:0.000171\n",
            "Progress:[44864/60000]  batch loss:0.016905\n",
            "Progress:[51264/60000]  batch loss:0.093980\n",
            "Progress:[57664/60000]  batch loss:0.006914\n",
            "Train Error: Avg loss: 0.010856\n",
            "Test Error: Accuracy: 98.0%, Avg loss: 0.138117\n",
            "\n",
            "Epoch 9\n",
            "-------------------------------\n",
            "Progress:[   64/60000]  batch loss:0.000272\n",
            "Progress:[ 6464/60000]  batch loss:0.000001\n",
            "Progress:[12864/60000]  batch loss:0.004516\n",
            "Progress:[19264/60000]  batch loss:0.000188\n",
            "Progress:[25664/60000]  batch loss:0.021845\n",
            "Progress:[32064/60000]  batch loss:0.000414\n",
            "Progress:[38464/60000]  batch loss:0.000589\n",
            "Progress:[44864/60000]  batch loss:0.000014\n",
            "Progress:[51264/60000]  batch loss:0.001120\n",
            "Progress:[57664/60000]  batch loss:0.010022\n",
            "Train Error: Avg loss: 0.008077\n",
            "Test Error: Accuracy: 98.3%, Avg loss: 0.109456\n",
            "\n",
            "Epoch 10\n",
            "-------------------------------\n",
            "Progress:[   64/60000]  batch loss:0.000016\n",
            "Progress:[ 6464/60000]  batch loss:0.000006\n",
            "Progress:[12864/60000]  batch loss:0.003167\n",
            "Progress:[19264/60000]  batch loss:0.000145\n",
            "Progress:[25664/60000]  batch loss:0.000415\n",
            "Progress:[32064/60000]  batch loss:0.000785\n",
            "Progress:[38464/60000]  batch loss:0.144837\n",
            "Progress:[44864/60000]  batch loss:0.000397\n",
            "Progress:[51264/60000]  batch loss:0.119521\n",
            "Progress:[57664/60000]  batch loss:0.010530\n",
            "Train Error: Avg loss: 0.007631\n",
            "Test Error: Accuracy: 98.1%, Avg loss: 0.132443\n",
            "\n",
            "Done!\n"
          ]
        }
      ]
    },
    {
      "cell_type": "code",
      "source": [
        "# plot training and test loss\n",
        "plt.plot(train_losses, label='Training Loss')\n",
        "plt.plot(test_losses, label='Test Loss')\n",
        "plt.xlabel('Epochs'), plt.ylabel('Loss'), plt.title('Training and Test Loss Over Epochs')\n",
        "plt.legend(), plt.show()"
      ],
      "metadata": {
        "id": "zL0y7Y1IB0CS",
        "colab": {
          "base_uri": "https://localhost:8080/",
          "height": 490
        },
        "outputId": "28535750-b43f-47d1-a4b4-770a1339271b"
      },
      "execution_count": 25,
      "outputs": [
        {
          "output_type": "display_data",
          "data": {
            "text/plain": [
              "<Figure size 640x480 with 1 Axes>"
            ],
            "image/png": "[encoded data removed]"
          },
          "metadata": {}
        },
        {
          "output_type": "execute_result",
          "data": {
            "text/plain": [
              "(<matplotlib.legend.Legend at 0x7dd83c0435e0>, None)"
            ]
          },
          "metadata": {},
          "execution_count": 25
        }
      ]
    }
  ]
}